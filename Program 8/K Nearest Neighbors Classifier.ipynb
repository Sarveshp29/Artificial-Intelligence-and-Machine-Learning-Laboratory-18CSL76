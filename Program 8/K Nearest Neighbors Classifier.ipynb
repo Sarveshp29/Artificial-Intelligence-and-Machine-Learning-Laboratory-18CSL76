{
 "cells": [
  {
   "cell_type": "code",
   "execution_count": 1,
   "id": "170f88df",
   "metadata": {},
   "outputs": [
    {
     "name": "stdout",
     "output_type": "stream",
     "text": [
      "Iris dataset is loaded successfully\n",
      "***********************************\n",
      "Label 0 -> setosa\n",
      "Label 1 -> versicolor\n",
      "Label 2 -> virginica\n",
      "***********************************\n",
      "Result of the Classification using KNN with K=1\n",
      "-----------------------------------------------\n",
      "Sample: [5.9 3.  4.2 1.5] Actual Label: 1 Predicted Label: 1\n",
      "Classification Accuracy: 1.0\n",
      "----------------------------------------------------------------\n",
      "Sample: [5.7 2.8 4.1 1.3] Actual Label: 1 Predicted Label: 1\n",
      "Classification Accuracy: 1.0\n",
      "----------------------------------------------------------------\n",
      "Sample: [6.5 2.8 4.6 1.5] Actual Label: 1 Predicted Label: 1\n",
      "Classification Accuracy: 1.0\n",
      "----------------------------------------------------------------\n",
      "Sample: [4.7 3.2 1.6 0.2] Actual Label: 0 Predicted Label: 0\n",
      "Classification Accuracy: 1.0\n",
      "----------------------------------------------------------------\n",
      "Sample: [6.3 2.7 4.9 1.8] Actual Label: 2 Predicted Label: 2\n",
      "Classification Accuracy: 1.0\n",
      "----------------------------------------------------------------\n",
      "Sample: [6.9 3.1 5.4 2.1] Actual Label: 2 Predicted Label: 2\n",
      "Classification Accuracy: 1.0\n",
      "----------------------------------------------------------------\n",
      "Sample: [7.  3.2 4.7 1.4] Actual Label: 1 Predicted Label: 1\n",
      "Classification Accuracy: 1.0\n",
      "----------------------------------------------------------------\n",
      "Sample: [5.2 2.7 3.9 1.4] Actual Label: 1 Predicted Label: 1\n",
      "Classification Accuracy: 1.0\n",
      "----------------------------------------------------------------\n",
      "Sample: [5.7 2.5 5.  2. ] Actual Label: 2 Predicted Label: 2\n",
      "Classification Accuracy: 1.0\n",
      "----------------------------------------------------------------\n",
      "Sample: [6.3 3.4 5.6 2.4] Actual Label: 2 Predicted Label: 2\n",
      "Classification Accuracy: 1.0\n",
      "----------------------------------------------------------------\n",
      "Sample: [6.5 3.  5.5 1.8] Actual Label: 2 Predicted Label: 2\n",
      "Classification Accuracy: 1.0\n",
      "----------------------------------------------------------------\n",
      "Sample: [4.4 2.9 1.4 0.2] Actual Label: 0 Predicted Label: 0\n",
      "Classification Accuracy: 1.0\n",
      "----------------------------------------------------------------\n",
      "Sample: [4.6 3.4 1.4 0.3] Actual Label: 0 Predicted Label: 0\n",
      "Classification Accuracy: 1.0\n",
      "----------------------------------------------------------------\n",
      "Sample: [4.9 3.1 1.5 0.2] Actual Label: 0 Predicted Label: 0\n",
      "Classification Accuracy: 1.0\n",
      "----------------------------------------------------------------\n",
      "Sample: [4.3 3.  1.1 0.1] Actual Label: 0 Predicted Label: 0\n",
      "Classification Accuracy: 1.0\n",
      "----------------------------------------------------------------\n"
     ]
    }
   ],
   "source": [
    "from sklearn.model_selection import train_test_split\n",
    "from sklearn.neighbors import KNeighborsClassifier\n",
    "from sklearn import datasets\n",
    "\n",
    "iris_dataset = datasets.load_iris()\n",
    "print(\"Iris dataset is loaded successfully\")\n",
    "print(\"***********************************\")\n",
    "\n",
    "x_train, x_test, y_train, y_test = train_test_split(iris_dataset.data, iris_dataset.target, test_size=0.1)\n",
    "\n",
    "for i in range(len(iris_dataset.target_names)):\n",
    "    print(\"Label\", i, \"->\", str(iris_dataset.target_names[i]))\n",
    "\n",
    "print(\"***********************************\")\n",
    "\n",
    "KNNClassifier = KNeighborsClassifier(n_neighbors=2)\n",
    "KNNClassifier.fit(x_train, y_train)\n",
    "y_pred = KNNClassifier.predict(x_test)\n",
    "\n",
    "print(\"Result of the Classification using KNN with K=1\")\n",
    "print(\"-----------------------------------------------\")\n",
    "for r in range(0, len(x_test)):\n",
    "    print(\"Sample:\", str(x_test[r]), \"Actual Label:\", str(y_test[r]), \"Predicted Label:\", str(y_pred[r]))\n",
    "    print(\"Classification Accuracy:\", KNNClassifier.score(x_test, y_test))\n",
    "    print(\"----------------------------------------------------------------\")"
   ]
  },
  {
   "cell_type": "code",
   "execution_count": null,
   "id": "5a658c9f",
   "metadata": {},
   "outputs": [],
   "source": []
  }
 ],
 "metadata": {
  "kernelspec": {
   "display_name": "Python 3 (ipykernel)",
   "language": "python",
   "name": "python3"
  },
  "language_info": {
   "codemirror_mode": {
    "name": "ipython",
    "version": 3
   },
   "file_extension": ".py",
   "mimetype": "text/x-python",
   "name": "python",
   "nbconvert_exporter": "python",
   "pygments_lexer": "ipython3",
   "version": "3.10.9"
  }
 },
 "nbformat": 4,
 "nbformat_minor": 5
}
