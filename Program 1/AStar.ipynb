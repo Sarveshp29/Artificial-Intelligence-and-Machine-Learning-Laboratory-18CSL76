{
 "cells": [
  {
   "cell_type": "code",
   "execution_count": 1,
   "id": "68357939",
   "metadata": {},
   "outputs": [
    {
     "name": "stdout",
     "output_type": "stream",
     "text": [
      "Path found: ['A', 'F', 'H', 'I', 'J']\n"
     ]
    },
    {
     "data": {
      "text/plain": [
       "['A', 'F', 'H', 'I', 'J']"
      ]
     },
     "execution_count": 1,
     "metadata": {},
     "output_type": "execute_result"
    }
   ],
   "source": [
    "def AStart(startnode, stopnode):\n",
    "    openlist = set(startnode)\n",
    "    closelist = set()\n",
    "    g = {}  # Stores the heurisitc values\n",
    "    g[startnode] = 0\n",
    "    parents = {}\n",
    "    parents[startnode] = startnode\n",
    "\n",
    "    while len(openlist) > 0:\n",
    "        node = None\n",
    "        for vertex in openlist:\n",
    "            if node == None or g[vertex] + heuristic(vertex) < g[node] < heuristic(node):\n",
    "                node = vertex\n",
    "\n",
    "        if node == stopnode or Graph_nodes[node] == None:\n",
    "            pass\n",
    "\n",
    "        else:\n",
    "            for (neighbor, weight) in get_neighbors(node):\n",
    "                if neighbor not in openlist and neighbor not in closelist:\n",
    "                    openlist.add(neighbor)\n",
    "                    parents[neighbor] = node\n",
    "                    g[neighbor] = g[node] + weight\n",
    "                else:\n",
    "                    if g[neighbor] > g[node] + weight:\n",
    "                        g[neighbor] = g[node] + weight\n",
    "                        parents[neighbor] = node\n",
    "                        if neighbor in closelist:\n",
    "                            closelist.remove(neighbor)\n",
    "                            openlist.add(neighbor)\n",
    "\n",
    "        if node == None:\n",
    "            print('Path not found')\n",
    "            return None\n",
    "\n",
    "        if node == stopnode:\n",
    "            path = []\n",
    "            while parents[node] != node:\n",
    "                path.append(node)\n",
    "                node = parents[node]\n",
    "            path.append(startnode)\n",
    "            path.reverse()\n",
    "            print('Path found: {}'.format(path))\n",
    "            return path\n",
    "\n",
    "        openlist.remove(node)\n",
    "        closelist.add(node)\n",
    "    print('Path doesn\\'t exist')\n",
    "    return None\n",
    "\n",
    "\n",
    "def get_neighbors(vertex):\n",
    "    if vertex in Graph_nodes:\n",
    "        return Graph_nodes[vertex]\n",
    "    else:\n",
    "        return None\n",
    "\n",
    "\n",
    "def heuristic(node):\n",
    "    H_dist = {\n",
    "        'A': 10,\n",
    "        'B': 8,\n",
    "        'C': 5,\n",
    "        'D': 7,\n",
    "        'E': 3,\n",
    "        'F': 6,\n",
    "        'G': 5,\n",
    "        'H': 3,\n",
    "        'I': 1,\n",
    "        'J': 0\n",
    "    }\n",
    "    return H_dist[node]\n",
    "\n",
    "\n",
    "Graph_nodes = {\n",
    "    'A': [('B', 6), ('F', 3)],\n",
    "    'B': [('C', 3), ('D', 2)],\n",
    "    'C': [('D', 1), ('E', 5)],\n",
    "    'D': [('C', 1), ('E', 8)],\n",
    "    'E': [('I', 5), ('J', 5)],\n",
    "    'F': [('G', 1), ('H', 7)],\n",
    "    'G': [('I', 3)],\n",
    "    'H': [('I', 2)],\n",
    "    'I': [('E', 5), ('J', 3)],\n",
    "}\n",
    "\n",
    "AStart('A', 'J')"
   ]
  }
 ],
 "metadata": {
  "kernelspec": {
   "display_name": "Python 3 (ipykernel)",
   "language": "python",
   "name": "python3"
  },
  "language_info": {
   "codemirror_mode": {
    "name": "ipython",
    "version": 3
   },
   "file_extension": ".py",
   "mimetype": "text/x-python",
   "name": "python",
   "nbconvert_exporter": "python",
   "pygments_lexer": "ipython3",
   "version": "3.10.9"
  }
 },
 "nbformat": 4,
 "nbformat_minor": 5
}
